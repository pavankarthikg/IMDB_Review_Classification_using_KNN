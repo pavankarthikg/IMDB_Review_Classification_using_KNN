{
 "cells": [
  {
   "cell_type": "code",
   "execution_count": 1,
   "id": "4835235c",
   "metadata": {},
   "outputs": [],
   "source": [
    "from bs4 import BeautifulSoup\n",
    "import nltk\n",
    "\"\"\"nltk.download('stopwords')\n",
    "nltk.download('wordnet')\"\"\"\n",
    "from nltk.corpus import stopwords\n",
    "from nltk.stem import WordNetLemmatizer\n",
    "from sklearn.feature_extraction.text import TfidfVectorizer\n",
    "import numpy as np\n",
    "import re\n"
   ]
  },
  {
   "cell_type": "code",
   "execution_count": 8,
   "id": "d8bd8c04",
   "metadata": {},
   "outputs": [],
   "source": [
    "def initialize(traindata, testdata):\n",
    "    with open(traindata, \"r\") as file1:\n",
    "        trainf = file1.readlines()\n",
    "    with open(testdata, \"r\") as file2:\n",
    "        testf = file2.readlines()\n",
    "    tsentim = [i.split(\"\\t\", 1)[0] for i in trainf]\n",
    "    trev = [j.split(\"\\t\", 1)[1] for j in trainf]\n",
    "    return trev, testf, tsentim"
   ]
  },
  {
   "cell_type": "code",
   "execution_count": 9,
   "id": "36b6fd0b",
   "metadata": {},
   "outputs": [],
   "source": [
    "def storeclean(reviews):\n",
    "    cleanrev = []\n",
    "    for i, rev in enumerate(reviews):\n",
    "        cleanrev.append(clean(rev))\n",
    "    return cleanrev"
   ]
  },
  {
   "cell_type": "code",
   "execution_count": 10,
   "id": "470b88cc",
   "metadata": {},
   "outputs": [],
   "source": [
    "def clean(raw):\n",
    "    text = BeautifulSoup(raw).get_text()\n",
    "    rem_email= re.sub(r'([\\w\\.-]+@[\\w\\.-]+\\.\\w+)','',text)\n",
    "    rem_links = re.sub(r'(?i)\\b((?:[a-z][\\w-]+:(?:/{1,3}|[a-z0-9%])|www\\d{0,3}[.]| \\\n",
    "        [a-z0-9.\\-]+[.][a-z]{2,4}/|[a-z0-9.\\-]+[.][a-z])(?:[^\\s()<>]+|\\(([^\\s()<>]+| \\\n",
    "        (\\([^\\s()<>]+\\)))*\\))+(?:\\(([^\\s()<>]+|(\\([^\\s()<>]+\\)))*\\)|[^\\s`!()\\[\\]{};:\\'\".,<>?«»“”‘’]))','', rem_email)\n",
    "    smileys = \"\"\":-) :) :o) :D :-D :( :-( :o(\"\"\".split()\n",
    "    smileyPattern = \"|\".join(map(re.escape, smileys))\n",
    "    letters = re.sub(\"[^a-zA-Z\" + smileyPattern + \"]\", \" \", rem_links)\n",
    "    words = letters.lower().split()     \n",
    "    stops = set(stopwords.words(\"english\"))                \n",
    "    lemmatizer = WordNetLemmatizer()\n",
    "    fin_words = ''\n",
    "    for word in words:\n",
    "        if word not in stops and len(word) > 3:\n",
    "            fin_words += str(lemmatizer.lemmatize(word)) + ' '\n",
    "    return fin_words\n"
   ]
  },
  {
   "cell_type": "code",
   "execution_count": 11,
   "id": "9cf4fb0e",
   "metadata": {},
   "outputs": [],
   "source": [
    "def TFID(train_data, test_data):\n",
    "    vectorizer = TfidfVectorizer(norm = 'l2')\n",
    "    trainTFID = vectorizer.fit_transform(train_data)\n",
    "    testTFID = vectorizer.transform(test_data)\n",
    "    return trainTFID, testTFID"
   ]
  },
  {
   "cell_type": "code",
   "execution_count": 12,
   "id": "17504bcb",
   "metadata": {},
   "outputs": [],
   "source": [
    "def similar(trainTFID, testTFID):\n",
    "    cossim = np.dot(testTFID, np.transpose(trainTFID))\n",
    "    similarities = cossim.toarray()\n",
    "    return similarities\n",
    "\n",
    "def KNN(similarity_vector, k):\n",
    "    return np.argsort(-similarity_vector)[:k]\n",
    "     \n",
    "def predict(nearestNeighbors, labels):\n",
    "    positiveReviewsCount = 0\n",
    "    negativeReviewsCount = 0\n",
    "    for neighbor in nearestNeighbors:\n",
    "        if int(labels[neighbor]) == 1:\n",
    "            positiveReviewsCount += 1\n",
    "        else:\n",
    "            negativeReviewsCount += 1\n",
    "    if positiveReviewsCount > negativeReviewsCount:\n",
    "        return 1\n",
    "    else:\n",
    "        return -1"
   ]
  },
  {
   "cell_type": "code",
   "execution_count": 13,
   "id": "05d0ea96",
   "metadata": {},
   "outputs": [],
   "source": [
    "train_reviews, test_reviews, train_sentiments = initialize('trainPR2.dat', 'testPR2.dat')\n",
    "train_reviews = storeclean(train_reviews)\n",
    "test_reviews = storeclean(test_reviews)\n",
    "\n",
    "train_matrix, test_matrix = TFID(train_reviews, test_reviews)"
   ]
  },
  {
   "cell_type": "code",
   "execution_count": 14,
   "id": "16fe85ee",
   "metadata": {},
   "outputs": [],
   "source": [
    "similarities = similar(train_matrix, test_matrix)"
   ]
  },
  {
   "cell_type": "code",
   "execution_count": 15,
   "id": "e7d639c7",
   "metadata": {},
   "outputs": [],
   "source": [
    "k = 287\n",
    "result = list()\n",
    "for similarity in similarities:\n",
    "    knn = KNN(similarity, k)\n",
    "    prediction = predict(knn, train_sentiments)\n",
    "    if prediction == 1:\n",
    "        result.append('+1')\n",
    "    else:\n",
    "        result.append('-1')"
   ]
  },
  {
   "cell_type": "code",
   "execution_count": 16,
   "id": "7f1f9052",
   "metadata": {},
   "outputs": [],
   "source": [
    "output = open('pr2_output_v11.dat', 'w')\n",
    "output.writelines( \"%s\\n\" % i for i in result)\n",
    "output.close()"
   ]
  },
  {
   "cell_type": "code",
   "execution_count": null,
   "id": "22ba979f",
   "metadata": {},
   "outputs": [],
   "source": []
  }
 ],
 "metadata": {
  "kernelspec": {
   "display_name": "Python 3",
   "language": "python",
   "name": "python3"
  },
  "language_info": {
   "codemirror_mode": {
    "name": "ipython",
    "version": 3
   },
   "file_extension": ".py",
   "mimetype": "text/x-python",
   "name": "python",
   "nbconvert_exporter": "python",
   "pygments_lexer": "ipython3",
   "version": "3.8.8"
  }
 },
 "nbformat": 4,
 "nbformat_minor": 5
}
